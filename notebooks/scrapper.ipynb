{
 "cells": [
  {
   "cell_type": "code",
   "execution_count": 1,
   "metadata": {},
   "outputs": [],
   "source": [
    "%load_ext autoreload\n",
    "%autoreload 2"
   ]
  },
  {
   "cell_type": "code",
   "execution_count": 4,
   "metadata": {},
   "outputs": [
    {
     "name": "stderr",
     "output_type": "stream",
     "text": [
      "/Users/Browning/Documents/citizenlabs/elections-api/.venv/lib/python3.7/site-packages/urllib3/connectionpool.py:1004: InsecureRequestWarning: Unverified HTTPS request is being made. Adding certificate verification is strongly advised. See: https://urllib3.readthedocs.io/en/latest/advanced-usage.html#ssl-warnings\n",
      "  InsecureRequestWarning,\n"
     ]
    },
    {
     "data": {
      "text/plain": [
       "200"
      ]
     },
     "execution_count": 4,
     "metadata": {},
     "output_type": "execute_result"
    }
   ],
   "source": [
    "import requests\n",
    "\n",
    "url = 'https://mvic.sos.state.mi.us/Voter/GetMvicBallot/1828/679/'\n",
    "\n",
    "response = requests.get(url,\n",
    "            headers={\n",
    "                'User-Agent': 'Mozilla/5.0 (Windows NT 6.1; WOW64; rv:40.0) Geck o/20100101 Firefox/40.1'\n",
    "            },\n",
    "            verify=False,\n",
    ")\n",
    "\n",
    "response.status_code"
   ]
  },
  {
   "cell_type": "code",
   "execution_count": 5,
   "metadata": {},
   "outputs": [],
   "source": [
    "html = response.text.strip()"
   ]
  },
  {
   "cell_type": "code",
   "execution_count": 6,
   "metadata": {},
   "outputs": [],
   "source": [
    "from bs4 import BeautifulSoup\n",
    "\n",
    "soup = BeautifulSoup(html)"
   ]
  },
  {
   "cell_type": "code",
   "execution_count": 7,
   "metadata": {},
   "outputs": [],
   "source": [
    "ballot = soup.find(id='PreviewMvicBallot').div.div.find_all('div', recursive=False)[1]"
   ]
  },
  {
   "cell_type": "code",
   "execution_count": 9,
   "metadata": {},
   "outputs": [
    {
     "data": {
      "text/plain": [
       "13"
      ]
     },
     "execution_count": 9,
     "metadata": {},
     "output_type": "execute_result"
    }
   ],
   "source": [
    "from elections import scrapers\n",
    "\n",
    "data = {}\n",
    "\n",
    "scrapers.parse_general_election_offices(ballot, data)"
   ]
  },
  {
   "cell_type": "code",
   "execution_count": 11,
   "metadata": {},
   "outputs": [
    {
     "data": {
      "text/plain": [
       "1"
      ]
     },
     "execution_count": 11,
     "metadata": {},
     "output_type": "execute_result"
    }
   ],
   "source": [
    "scrapers.parse_proposals(ballot, data)"
   ]
  },
  {
   "cell_type": "code",
   "execution_count": 14,
   "metadata": {},
   "outputs": [
    {
     "data": {
      "text/plain": [
       "{'NONPARTISAN SECTION': {'CITY': {'MAYOR': {'term': ['Vote for not more than 1'],\n",
       "    'candidates': ['Rosalynn Bliss', 'Daniel Allen Schutte']},\n",
       "   'COMMISSIONER BY WARD': {'term': ['WARD 1', 'Vote for not more than 1'],\n",
       "    'candidates': ['Allison Kay Lutz', \"Jon O'Connor\"]},\n",
       "   'LIBRARY BOARD DIRECTOR': {'term': ['Vote for not more than 1',\n",
       "     'Partial Term Ending 12/31/2023',\n",
       "     'Vote for not more than 1'],\n",
       "    'candidates': ['Kathryn Dilley', 'Jonathan Helder', 'Kent Sparks']}}},\n",
       " 'PROPOSAL SECTION': {'CITY PROPOSALS': {'City of Grand Rapids\\nCity of Grand Rapids Charter Amendment authorizing the levy of a permanent tax millage of 1.25 mills for PARKS, POOLS AND PLAYGROUNDS commencing January 1, 2021. The current levy of 0.98 mills expires in 2020.': {'text': \"\\xa0\\n\\xa0\\n\\xa0\\nIt is proposed that Section 18(e)(4) be added to the City Charter authorizing the levy of 1.25 mills commencing January 1, 2021, to be used for City-owned parks, pools, and playgrounds which will raise an estimated $5,000,000 in the levy's first year.\\nA portion of the revenues received would also be disbursed to:\\nBrownfield Redevelopment Authority, Downtown Development Authority, SmartZone Local Development Finance Authority, Monroe North TIFA, Southtown CIA, Michigan Street CIA. Westside CIA, North Quarter CIA, South Division/Grandville Avenue and Uptown CIA .\\nShall this amendment be adopted?\\n\"}}}}"
      ]
     },
     "execution_count": 14,
     "metadata": {},
     "output_type": "execute_result"
    }
   ],
   "source": [
    "data"
   ]
  }
 ],
 "metadata": {
  "kernelspec": {
   "display_name": "Python 3",
   "language": "python",
   "name": "python3"
  },
  "language_info": {
   "codemirror_mode": {
    "name": "ipython",
    "version": 3
   },
   "file_extension": ".py",
   "mimetype": "text/x-python",
   "name": "python",
   "nbconvert_exporter": "python",
   "pygments_lexer": "ipython3",
   "version": "3.7.2"
  }
 },
 "nbformat": 4,
 "nbformat_minor": 2
}
